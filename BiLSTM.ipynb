{
  "nbformat": 4,
  "nbformat_minor": 0,
  "metadata": {
    "colab": {
      "provenance": []
    },
    "kernelspec": {
      "name": "python3",
      "display_name": "Python 3"
    },
    "language_info": {
      "name": "python"
    },
    "accelerator": "GPU",
    "gpuClass": "standard"
  },
  "cells": [
    {
      "cell_type": "code",
      "execution_count": null,
      "metadata": {
        "id": "p58OMXyeHKKE"
      },
      "outputs": [],
      "source": [
        "from keras.datasets import imdb\n",
        "from keras.preprocessing.text import Tokenizer\n",
        "from keras_preprocessing.sequence import pad_sequences\n",
        "from sklearn.model_selection import train_test_split\n",
        "import numpy as np\n",
        "import tensorflow as tf\n",
        "import pandas as pd"
      ]
    },
    {
      "cell_type": "code",
      "source": [
        "train_neg = [tweet[:-1] for tweet in open('./train_neg.txt').readlines()]\n",
        "train_pos = [tweet[:-1] for tweet in open('./train_pos.txt').readlines()]"
      ],
      "metadata": {
        "id": "E7mXv324Khid"
      },
      "execution_count": null,
      "outputs": []
    },
    {
      "cell_type": "code",
      "source": [
        "tokenizer = Tokenizer()\n",
        "tokenizer.fit_on_texts(train_neg + train_pos)"
      ],
      "metadata": {
        "id": "leNlI9IlKn4w"
      },
      "execution_count": null,
      "outputs": []
    },
    {
      "cell_type": "code",
      "source": [
        "seq = tokenizer.texts_to_sequences(train_neg + train_pos)"
      ],
      "metadata": {
        "id": "slCeS20oLV2h"
      },
      "execution_count": null,
      "outputs": []
    },
    {
      "cell_type": "code",
      "source": [
        "y = np.array([0]*100000 + [1]*100000)\n",
        "X = pad_sequences(seq)\n",
        "x_train, x_test, y_train, y_test = train_test_split(X, y, test_size=0.1, random_state=42)\n",
        "\n"
      ],
      "metadata": {
        "id": "DCy3hQ03LlDO"
      },
      "execution_count": null,
      "outputs": []
    },
    {
      "cell_type": "code",
      "source": [
        "max_features=10000\n",
        "maxlen=x_train.shape[1]\n",
        "embedding_dim=128\n",
        "#(x_train,y_train),(x_test,y_test)=imdb.load_data(num_words=max_features)"
      ],
      "metadata": {
        "id": "dYFSBQxdHdTy"
      },
      "execution_count": null,
      "outputs": []
    },
    {
      "cell_type": "code",
      "source": [
        "#x_train=pad_sequences(x_train,maxlen=maxlen)\n",
        "#x_test=pad_sequences(x_test,maxlen=maxlen)\n",
        "#print(x_train.shape,x_test.shape)"
      ],
      "metadata": {
        "id": "kMtiBdu0HlLD"
      },
      "execution_count": null,
      "outputs": []
    },
    {
      "cell_type": "code",
      "source": [
        "num_filters=200 \n",
        "#\n",
        "from keras.models import Model\n",
        "from keras import layers\n",
        "from keras import Input\n",
        "\n",
        "\n",
        "\n",
        "text_input=Input(shape=(None,),dtype='int32',name='text')\n",
        "embedded_text=layers.Embedding(max_features,embedding_dim,input_length=maxlen)(text_input)\n",
        "x=layers.Bidirectional(layers.LSTM(100,activation='tanh',return_sequences=False, dropout=0.5, recurrent_dropout=0.1))(embedded_text)\n",
        "x=layers.Dropout(0.5)(x)\n",
        "x=layers.Dense(30,activation='relu')(x)\n",
        "output=layers.Dense(1,activation='sigmoid')(x)\n",
        "model_biLSTM=Model(text_input,output)\n",
        "model_biLSTM.summary()"
      ],
      "metadata": {
        "colab": {
          "base_uri": "https://localhost:8080/"
        },
        "id": "4oJ5SXNlHn3v",
        "outputId": "ef315674-dcd6-4da9-8f36-847f4b59790a"
      },
      "execution_count": null,
      "outputs": [
        {
          "output_type": "stream",
          "name": "stderr",
          "text": [
            "WARNING:tensorflow:Layer lstm_1 will not use cuDNN kernels since it doesn't meet the criteria. It will use a generic GPU kernel as fallback when running on GPU.\n",
            "WARNING:tensorflow:Layer lstm_1 will not use cuDNN kernels since it doesn't meet the criteria. It will use a generic GPU kernel as fallback when running on GPU.\n",
            "WARNING:tensorflow:Layer lstm_1 will not use cuDNN kernels since it doesn't meet the criteria. It will use a generic GPU kernel as fallback when running on GPU.\n"
          ]
        },
        {
          "output_type": "stream",
          "name": "stdout",
          "text": [
            "Model: \"model_1\"\n",
            "_________________________________________________________________\n",
            " Layer (type)                Output Shape              Param #   \n",
            "=================================================================\n",
            " text (InputLayer)           [(None, None)]            0         \n",
            "                                                                 \n",
            " embedding_1 (Embedding)     (None, None, 128)         1280000   \n",
            "                                                                 \n",
            " bidirectional_1 (Bidirectio  (None, 200)              183200    \n",
            " nal)                                                            \n",
            "                                                                 \n",
            " dropout_1 (Dropout)         (None, 200)               0         \n",
            "                                                                 \n",
            " dense_2 (Dense)             (None, 30)                6030      \n",
            "                                                                 \n",
            " dense_3 (Dense)             (None, 1)                 31        \n",
            "                                                                 \n",
            "=================================================================\n",
            "Total params: 1,469,261\n",
            "Trainable params: 1,469,261\n",
            "Non-trainable params: 0\n",
            "_________________________________________________________________\n"
          ]
        }
      ]
    },
    {
      "cell_type": "code",
      "source": [
        "with tf.device('/gpu:0'):\n",
        "  model_biLSTM.compile(optimizer='adam',loss='binary_crossentropy',metrics=['acc'])\n",
        "  history_biLSTM=model_biLSTM.fit(x_train,y_train,epochs=3,batch_size=64,validation_data=(x_test,y_test))"
      ],
      "metadata": {
        "colab": {
          "base_uri": "https://localhost:8080/"
        },
        "id": "BBK3dzqmHqNF",
        "outputId": "6bcb2e0c-6e44-49f1-8369-cc4b8207c9da"
      },
      "execution_count": null,
      "outputs": [
        {
          "output_type": "stream",
          "name": "stdout",
          "text": [
            "Epoch 1/3\n",
            "2813/2813 [==============================] - 1024s 361ms/step - loss: 0.4267 - acc: 0.7955 - val_loss: 0.3799 - val_acc: 0.8220\n",
            "Epoch 2/3\n",
            "2813/2813 [==============================] - 1007s 358ms/step - loss: 0.3634 - acc: 0.8327 - val_loss: 0.3694 - val_acc: 0.8316\n",
            "Epoch 3/3\n",
            "2813/2813 [==============================] - 1003s 357ms/step - loss: 0.3374 - acc: 0.8471 - val_loss: 0.3662 - val_acc: 0.8339\n"
          ]
        }
      ]
    },
    {
      "cell_type": "code",
      "source": [
        "test_data = pad_sequences(tokenizer.texts_to_sequences([tweet[:-1] for tweet in open('./test_data.txt').readlines()]))\n"
      ],
      "metadata": {
        "id": "mAFc5thBOmQL"
      },
      "execution_count": null,
      "outputs": []
    },
    {
      "cell_type": "code",
      "source": [
        "prediction = model_biLSTM.predict(test_data)"
      ],
      "metadata": {
        "id": "Fx3msTv5IRFM",
        "colab": {
          "base_uri": "https://localhost:8080/"
        },
        "outputId": "adbfda89-7de7-49ef-de23-2aae39472832"
      },
      "execution_count": null,
      "outputs": [
        {
          "output_type": "stream",
          "name": "stdout",
          "text": [
            "313/313 [==============================] - 9s 28ms/step\n"
          ]
        }
      ]
    },
    {
      "cell_type": "code",
      "source": [
        "predictions = (2*(prediction>0.5).astype(int)-1).reshape((10000,)).tolist()"
      ],
      "metadata": {
        "id": "VgebLQzPO_HK"
      },
      "execution_count": null,
      "outputs": []
    },
    {
      "cell_type": "code",
      "source": [
        "pd.DataFrame.from_dict({'Id': range(1, 10001), 'Prediction': predictions}).to_csv('submissions_dd.csv', index = False)"
      ],
      "metadata": {
        "id": "PRecziMRPSPt"
      },
      "execution_count": null,
      "outputs": []
    },
    {
      "cell_type": "code",
      "source": [],
      "metadata": {
        "id": "rOcMNbI1Pxw-"
      },
      "execution_count": null,
      "outputs": []
    }
  ]
}