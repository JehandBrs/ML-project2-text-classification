{
 "cells": [
  {
   "cell_type": "markdown",
   "id": "ce937c11",
   "metadata": {},
   "source": [
    "# Predictions using sklearn"
   ]
  },
  {
   "cell_type": "markdown",
   "id": "485b934c",
   "metadata": {},
   "source": [
    "## 0. Imports"
   ]
  },
  {
   "cell_type": "code",
   "execution_count": 1,
   "id": "7203ea9c",
   "metadata": {},
   "outputs": [
    {
     "name": "stderr",
     "output_type": "stream",
     "text": [
      "/Users/jehandebryas/opt/anaconda3/lib/python3.9/site-packages/past/builtins/misc.py:45: DeprecationWarning: the imp module is deprecated in favour of importlib; see the module's documentation for alternative uses\n",
      "  from imp import reload\n"
     ]
    }
   ],
   "source": [
    "# some imports that could help us\n",
    "\n",
    "import pandas as pd\n",
    "import seaborn as sns\n",
    "import gzip\n",
    "import nltk\n",
    "from nltk.corpus import stopwords\n",
    "import warnings; warnings.simplefilter('ignore')\n",
    "import os, codecs, string, random\n",
    "import numpy as np\n",
    "from numpy.random import seed as random_seed\n",
    "from numpy.random import shuffle as random_shuffle\n",
    "import matplotlib.pyplot as plt\n",
    "%matplotlib inline  \n",
    "\n",
    "seed = 42\n",
    "random.seed(seed)\n",
    "np.random.seed(seed)\n",
    "\n",
    "#NLP libraries\n",
    "import spacy, nltk, gensim, sklearn\n",
    "#import pyLDAvis.gensim\n",
    "import pyLDAvis.gensim_models\n",
    "\n",
    "#Vader\n",
    "import vaderSentiment\n",
    "from vaderSentiment.vaderSentiment import SentimentIntensityAnalyzer\n",
    "\n",
    "#Scikit imports\n",
    "from sklearn.feature_extraction.text import CountVectorizer\n",
    "from sklearn.feature_extraction.text import TfidfTransformer\n",
    "from sklearn.model_selection import train_test_split\n",
    "from sklearn.model_selection import cross_val_score\n",
    "from sklearn.linear_model import LogisticRegression\n",
    "from sklearn import preprocessing\n",
    "from sklearn.preprocessing import StandardScaler\n",
    "from sklearn.utils import shuffle\n",
    "from sklearn.pipeline import Pipeline\n",
    "from sklearn.metrics import accuracy_score\n",
    "from sklearn.tree import DecisionTreeClassifier\n",
    "from sklearn.neural_network import MLPClassifier\n",
    "from sklearn.decomposition import PCA\n",
    "from sklearn.decomposition import TruncatedSVD\n",
    "from scipy import sparse as sp\n",
    "# from textblob import TextBlob\n",
    "\n",
    "from nltk.stem.wordnet import WordNetLemmatizer"
   ]
  },
  {
   "cell_type": "markdown",
   "id": "d9dda534",
   "metadata": {},
   "source": [
    "## 1. Pre-process data"
   ]
  },
  {
   "cell_type": "code",
   "execution_count": 2,
   "id": "df655913",
   "metadata": {},
   "outputs": [],
   "source": [
    "# import small train and test datasets\n",
    "train_neg = [tweet[:-1] for tweet in open('./twitter-datasets/train_neg.txt').readlines()]\n",
    "train_pos = [tweet[:-1] for tweet in open('./twitter-datasets/train_pos.txt').readlines()]\n",
    "test_data = [tweet[:-1] for tweet in open('./twitter-datasets/test_data.txt').readlines()]\n",
    "\n",
    "# import vocab_cut\n",
    "vocab = [word[:-1] for word in open('./vocab_cut.txt').readlines()]"
   ]
  },
  {
   "cell_type": "code",
   "execution_count": 4,
   "id": "355d8875",
   "metadata": {},
   "outputs": [],
   "source": [
    "# replace n`t by not and then lower case all words\n",
    "\n",
    "def replace_contractions(sentence):\n",
    "    return sentence.replace(\"n't\", ' not')\n",
    "\n",
    "train_neg = [replace_contractions(tweet).lower() for tweet in train_neg]\n",
    "train_pos = [replace_contractions(tweet).lower() for tweet in train_pos]\n",
    "vocab = [replace_contractions(word).lower() for word in vocab]"
   ]
  },
  {
   "cell_type": "code",
   "execution_count": 13,
   "id": "b44a3943",
   "metadata": {},
   "outputs": [
    {
     "data": {
      "text/plain": [
       "<matplotlib.legend.Legend at 0x7f9157ed0c70>"
      ]
     },
     "execution_count": 13,
     "metadata": {},
     "output_type": "execute_result"
    },
    {
     "data": {
      "image/png": "[encoded data removed]",
      "text/plain": [
       "<Figure size 640x480 with 1 Axes>"
      ]
     },
     "metadata": {},
     "output_type": "display_data"
    }
   ],
   "source": [
    "# let's watch len of tweets\n",
    "len_pos = [len(tweet.split()) for tweet in train_pos]\n",
    "len_neg = [len(tweet.split()) for tweet in train_neg]\n",
    "plt.xlim(0,40)\n",
    "sns.histplot(len_pos, bins = 20, color = 'red', label = 'positive tweets')\n",
    "sns.histplot(len_neg, bins = 20, label = 'negative tweets')\n",
    "plt.legend()\n",
    "\n",
    "# it seems that longer tweets have a greater probability of being negative"
   ]
  },
  {
   "cell_type": "code",
   "execution_count": 15,
   "id": "3af902c6",
   "metadata": {},
   "outputs": [],
   "source": [
    "# remove digits, we realize it has very low impact on accuracy\n",
    "vocab_no_digit  = [''.join(i for i in word if not i.isdigit()) for word in vocab]\n",
    "\n",
    "# Add at the end of the tweet the number of words in the tweet. \n",
    "# it gave us a little more accuracy\n",
    "vocab += str(range(0, 101))\n",
    "train_neg = [tweet + ' ' + str(len(tweet.split())) for tweet in train_neg]\n",
    "train_pos = [tweet + ' ' + str(len(tweet.split())) for tweet in train_pos]"
   ]
  },
  {
   "cell_type": "markdown",
   "id": "f1a61263",
   "metadata": {},
   "source": [
    "## 2. Predictions using logistic regression"
   ]
  },
  {
   "cell_type": "code",
   "execution_count": 16,
   "id": "c7cd170c",
   "metadata": {},
   "outputs": [],
   "source": [
    "# add lematizer \n",
    "lemmatizer = WordNetLemmatizer()\n",
    "analyzer = CountVectorizer().build_analyzer()\n",
    "def lemmatize_words(doc):\n",
    "    return (lemmatizer.lemmatize(w,'v') for w in analyzer(doc))\n",
    "\n",
    "# We create the pipeline for treating the data \n",
    "# The data is put into a TFIDF transformer, a sort of normalized matrix \n",
    "# that holds transform text data into a feature vector. Each row correspond to \n",
    "# a tweet, and each column to a word. TFIDF matrix add some sort of normalization to that\n",
    "# Then a logistic regression is applied on this formatted data\n",
    "\n",
    "pipl = Pipeline([\n",
    "    ('vect', CountVectorizer(vocabulary = list(set([lemmatizer.lemmatize(w, 'v') for w in vocab])), ngram_range = (1, 3), analyzer = lemmatize_words)),\n",
    "    ('tfidf', TfidfTransformer()),\n",
    "    ('logreg', LogisticRegression()),\n",
    "])"
   ]
  },
  {
   "cell_type": "code",
   "execution_count": 179,
   "id": "0ea738af",
   "metadata": {},
   "outputs": [
    {
     "name": "stdout",
     "output_type": "stream",
     "text": [
      "accuracy = 80.765%\n"
     ]
    }
   ],
   "source": [
    "# separate data into a test/train split\n",
    "X, y = train_neg + train_pos, [-1 for i in range(len(train_neg))]+[1 for i in range(len(train_pos))]\n",
    "X_train, X_test, y_train, y_test = train_test_split(X, y, test_size=0.1, random_state=47)\n",
    "\n",
    "# train pipeline\n",
    "pipl.fit(X_train, y_train)\n",
    "\n",
    "# predict test data\n",
    "prediction = pipl.predict(X_test)\n",
    "\n",
    "# test its accuracy\n",
    "print('accuracy = {}%'.format(100*accuracy_score(y_test, prediction)))"
   ]
  },
  {
   "cell_type": "code",
   "execution_count": 17,
   "id": "187776c2",
   "metadata": {},
   "outputs": [],
   "source": [
    "# create a submission to AIcrowd\n",
    "\n",
    "#df = pd.DataFrame.from_dict({'Id' : range(1, 10001), 'Prediction': prediction.tolist()})\n",
    "#df.to_csv('submission.csv', index=False)"
   ]
  },
  {
   "cell_type": "markdown",
   "id": "0f3937e3",
   "metadata": {},
   "source": [
    "##  3. Predictions using decision tree classifier"
   ]
  },
  {
   "cell_type": "code",
   "execution_count": 171,
   "id": "262a8590",
   "metadata": {},
   "outputs": [],
   "source": [
    "# this new pipeline use the same TFIDF matrix as before\n",
    "# But now the final classifier used is a decision tree\n",
    "\n",
    "pipl = Pipeline([\n",
    "    ('vect', CountVectorizer(vocabulary = list(set([lemmatizer.lemmatize(w, 'v') for w in vocab])), ngram_range = (1, 3), analyzer = lemmatize_words)),\n",
    "    ('tfidf', TfidfTransformer()),\n",
    "    ('clf', DecisionTreeClassifier(max_depth=100)),\n",
    "])"
   ]
  },
  {
   "cell_type": "code",
   "execution_count": 172,
   "id": "eabb8eef",
   "metadata": {},
   "outputs": [
    {
     "name": "stdout",
     "output_type": "stream",
     "text": [
      "accuracy = 0.76645\n"
     ]
    }
   ],
   "source": [
    "# separate data into a test/train split\n",
    "X, y = train_neg + train_pos, [-1 for i in range(len(train_neg))]+[1 for i in range(len(train_pos))]\n",
    "X_train, X_test, y_train, y_test = train_test_split(X, y, test_size=0.1, random_state=47)\n",
    "\n",
    "# train pipeline\n",
    "pipl.fit(X_train, y_train)\n",
    "\n",
    "# predict test data\n",
    "prediction = pipl.predict(X_test)\n",
    "\n",
    "# test its accuracy\n",
    "print('accuracy = {}%'.format(100*accuracy_score(y_test, prediction)))"
   ]
  },
  {
   "cell_type": "markdown",
   "id": "55cbefa8",
   "metadata": {},
   "source": [
    "## 4. Predictions using neural networks"
   ]
  },
  {
   "cell_type": "code",
   "execution_count": 192,
   "id": "05a630d6",
   "metadata": {},
   "outputs": [],
   "source": [
    "# Text data is still on a TFIDF matrix\n",
    "# We use an MLPClassifier from sklearn library, with two hidden layers of sizes : (30,20)\n",
    "# after testing on multiple alpha we choosed 10e-5\n",
    "\n",
    "pipl = Pipeline([\n",
    "    ('vect', CountVectorizer(vocabulary = list(set([lemmatizer.lemmatize(w, 'v') for w in vocab])), ngram_range = (1, 3), analyzer = lemmatize_words)),\n",
    "    ('tfidf', TfidfTransformer()),\n",
    "    ('mlp', MLPClassifier(solver='lbfgs', alpha=10e-5, hidden_layer_sizes=(30,20), random_state=4, activation = 'relu')),\n",
    "])"
   ]
  },
  {
   "cell_type": "code",
   "execution_count": 193,
   "id": "fc733486",
   "metadata": {},
   "outputs": [
    {
     "name": "stdout",
     "output_type": "stream",
     "text": [
      "accuracy = 81.13%\n"
     ]
    }
   ],
   "source": [
    "# separate data into a test/train split\n",
    "X, y = train_neg + train_pos, [-1 for i in range(len(train_neg))]+[1 for i in range(len(train_pos))]\n",
    "X_train, X_test, y_train, y_test = train_test_split(X, y, test_size=0.1, random_state=47)\n",
    "\n",
    "# train pipeline\n",
    "pipl.fit(X_train, y_train)\n",
    "\n",
    "# predict test data\n",
    "prediction = pipl.predict(X_test)\n",
    "\n",
    "# test its accuracy\n",
    "print('accuracy = {}%'.format(100*accuracy_score(y_test, prediction)))"
   ]
  }
 ],
 "metadata": {
  "kernelspec": {
   "display_name": "Python 3 (ipykernel)",
   "language": "python",
   "name": "python3"
  },
  "language_info": {
   "codemirror_mode": {
    "name": "ipython",
    "version": 3
   },
   "file_extension": ".py",
   "mimetype": "text/x-python",
   "name": "python",
   "nbconvert_exporter": "python",
   "pygments_lexer": "ipython3",
   "version": "3.9.13"
  }
 },
 "nbformat": 4,
 "nbformat_minor": 5
}
